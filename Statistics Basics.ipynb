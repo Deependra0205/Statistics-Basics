{
 "cells": [
  {
   "cell_type": "code",
   "execution_count": null,
   "id": "06b29132-fe4f-47dc-b043-7bf388406029",
   "metadata": {},
   "outputs": [],
   "source": [
    "# 1. Explain the different types of data (qualitative and quantitative) and provide examples of each. Discuss nominal, ordinal, interval, and ratio scales\n",
    "\"\"\"Qualitative Data: Describes categories or qualities, non-numerical.\n",
    "Examples: Eye color, gender, blood type.\n",
    "Scales:\n",
    "Nominal: No order (e.g., gender, blood group).\n",
    "Ordinal: Ordered but no fixed interval (e.g., satisfaction levels: happy, neutral, unhappy).\n",
    "\n",
    "\n",
    "Quantitative Data: Represents numerical measurements or counts.\n",
    "Examples: Weight, height, temperature.\n",
    "Scales:\n",
    "Interval: Equal intervals, no true zero (e.g., temperature in °C).\n",
    "\"\"\"\n",
    "\n"
   ]
  },
  {
   "cell_type": "code",
   "execution_count": null,
   "id": "8798e3a0-b584-4e76-a0ee-503e460d673a",
   "metadata": {},
   "outputs": [],
   "source": [
    "#  2. What are the measures of central tendency, and when should you use each? Discuss the mean, median, and mode with examples and situations where each is appropriate.\n",
    "\"\"Measures of Central Tendency:\n",
    "\n",
    "Mean (Average):\n",
    "Definition: Sum of all values divided by the number of values.\n",
    "Example: Average score of 5 tests: \n",
    "(80+85+90+95+100)/5=90\n",
    "Use: When data is numerical and evenly distributed (no extreme outliers).\n",
    "\n",
    "Median:\n",
    "Definition: Middle value when data is ordered.\n",
    "Example: Median of 10,20,30,40,100 is 30\n",
    "Use: For skewed data or data with outliers (e.g., income data).\n",
    "\n",
    "Mode:\n",
    "Definition: Most frequently occurring value.\n",
    "Example: Mode of \n",
    "1,2,2,3,4 is 2\n",
    "Use: For categorical data or to identify the most common value.\n",
    "\n"
   ]
  },
  {
   "cell_type": "code",
   "execution_count": null,
   "id": "8b849ee5-e58d-4e10-b12d-c75ebe10d0d7",
   "metadata": {},
   "outputs": [],
   "source": [
    "#  3. Explain the concept of dispersion. How do variance and standard deviation measure the spread of data?\n",
    "\"\"Dispersion:\n",
    "Dispersion measures how spread out data points are around the central value, indicating variability in the dataset.\n",
    "\n",
    "Variance:\n",
    "Definition: The average of squared differences from the mean.\n",
    "Use: Measures how far data points are spread; larger variance means greater spread.\n",
    "\n",
    "Standard Deviation (SD):\n",
    "Definition: The square root of variance.\n",
    "Use: Measures spread in the same unit as the data for easier interpretation.\n",
    "\"\""
   ]
  },
  {
   "cell_type": "code",
   "execution_count": null,
   "id": "204feee7-2906-4d8d-b9f1-a377d566a93c",
   "metadata": {},
   "outputs": [],
   "source": [
    "# 4. What is a box plot, and what can it tell you about the distribution of data?\n",
    "\"\"Box Plot: A box plot (or box-and-whisker plot) is a graphical representation of data distribution that summarizes \n",
    "its central tendency, spread, and variability.\n",
    "\n",
    "Distribution of data\n",
    "Central Tendency: Median value of the dataset.\n",
    "Spread: The range and IQR.\n",
    "Skewness: Position of the median within the box.\n",
    "Outliers: Identifies unusually high or low values.\n",
    "\"\"\n"
   ]
  },
  {
   "cell_type": "code",
   "execution_count": null,
   "id": "42d6182e-8438-4204-b330-5f9ecaa0fbfc",
   "metadata": {},
   "outputs": [],
   "source": [
    "# 5. Discuss the role of random sampling in making inferences about populations?\n",
    "\n",
    "\"\"Random sampling is a method of selecting a subset of individuals from a population, where each member \n",
    "has an equal chance of being chosen. It plays a crucial role in making inferences about populations because\n",
    "it ensures that the sample is representative, minimizing bias.\n",
    "\"\""
   ]
  },
  {
   "cell_type": "code",
   "execution_count": null,
   "id": "61c664bf-d689-4c1b-bf54-ed5ea239bf26",
   "metadata": {},
   "outputs": [],
   "source": [
    "# 6. Explain the concept of skewness and its types. How does skewness affect the interpretation of data?\n",
    "\n",
    "\"\"Skewness:\n",
    "Skewness measures the asymmetry of a data distribution around its mean. \n",
    "It indicates whether the data is evenly distributed or leans more toward one side.\n",
    "\n",
    "Types of Skewness:\n",
    "Symmetrical Distribution (No Skewness):\n",
    "Positive Skewness (Right-Skewed):\n",
    "Negative Skewness (Left-Skewed):\n",
    "\n",
    "Impact of Skewness on Data Interpretation:\n",
    "Mean, Median, and Mode\n",
    "Statistical Analysis\n",
    "Decision-Making\n",
    "\"\"\n",
    "\n",
    "\n",
    "\n",
    "\n"
   ]
  },
  {
   "cell_type": "code",
   "execution_count": null,
   "id": "8203253d-a463-4b6d-9241-215b579dbff8",
   "metadata": {},
   "outputs": [],
   "source": [
    "# 7. What is the interquartile range (IQR), and how is it used to detect outliers?\n",
    "\n",
    "\"\"Interquartile Range (IQR):\n",
    "The IQR measures the spread of the middle 50% of a dataset, calculated as the difference between the third quartile (Q3) and the first quartile (Q1).\n",
    "IQR=Q3−Q1\"\"\n",
    "\n",
    "Steps to Detect Outliers Using IQR:\n",
    "1) Calculate Quartiles:\n",
    "Q1 (25th percentile): Median of the lower half of the data.\n",
    "Q3 (75th percentile): Median of the upper half of the data.\n",
    "\n",
    "2) Find IQR: Subtract Q1 from Q3.\n",
    "\n",
    "3)Determine Outlier Boundaries:\n",
    "Lower Boundary: Q1−1.5×IQR.\n",
    "Upper Boundary: Q3+1.5×IQR.\n",
    "\n",
    "4)Identify Outliers: Any data point below the lower boundary or above the upper boundary is an outlier.\n",
    "\"\"\n",
    "\n",
    "\n",
    "\n"
   ]
  },
  {
   "cell_type": "code",
   "execution_count": null,
   "id": "751a66eb-100f-4615-ac4c-7fb29191760b",
   "metadata": {},
   "outputs": [],
   "source": [
    "# 8. Discuss the conditions under which the binomial distribution is used\n",
    "\n",
    "\"\"The binomial distribution is used when these conditions are met:\n",
    "\n",
    "1) Fixed Number of Trials: A fixed number of trials (n).\n",
    "2) Two Possible Outcomes: Each trial results in either \"success\" or \"failure\".\n",
    "3) Constant Probability of Success: The probability of success (p) is the same for each trial.\n",
    "4) Independent Trials: The outcome of one trial does not affect others.\n",
    "\n",
    "Example: Flipping a coin 10 times with a 50% chance of heads in each flip.\n",
    "\"\" \n"
   ]
  },
  {
   "cell_type": "code",
   "execution_count": null,
   "id": "9d9d3299-1b6d-40c4-96e8-5978e9d93eb6",
   "metadata": {},
   "outputs": [],
   "source": [
    "# 9. Explain the properties of the normal distribution and the empirical rule (68-95-99.7 rule).\n",
    "\n",
    "\"\"Properties of the Normal Distribution:\n",
    "\n",
    "1) Symmetry: The distribution is symmetric around the mean.\n",
    "2) Bell-shaped: It has a bell shape, with most data clustering around the mean.\n",
    "3) Mean = Median = Mode: All are equal and at the center.\n",
    "4) Asymptotic: The tails extend infinitely without touching the axis.\n",
    "5) Defined by Mean and Standard Deviation: Fully described by its mean (μ) and standard deviation (σ).\n",
    "\n",
    "Empirical Rule (68-95-99.7 Rule):\n",
    "\n",
    "1) 68% of data falls within 1 standard deviation of the mean.\n",
    "2) 95% falls within 2 standard deviations.\n",
    "3) 99.7% falls within 3 standard deviations.\n",
    "\n",
    "\"\""
   ]
  },
  {
   "cell_type": "code",
   "execution_count": null,
   "id": "4b1b12bf-db23-4d11-95c6-f75ba498e024",
   "metadata": {},
   "outputs": [],
   "source": [
    "# 10. Provide a real-life example of a Poisson process and calculate the probability for a specific event\n",
    "\n",
    "\"\"Real-Life Example:\n",
    "A Poisson process can model the number of customer arrivals at a coffee shop in an hour. Suppose the average number of customers arriving is 8 per hour.\n",
    "\n",
    "Problem:\n",
    "What is the probability that exactly 5 customers arrive in the next hour?\n",
    "\"\""
   ]
  },
  {
   "cell_type": "code",
   "execution_count": null,
   "id": "6063b27d-48b2-4739-b2ea-8c892ce9bb40",
   "metadata": {},
   "outputs": [],
   "source": [
    "# 11. Explain what a random variable is and differentiate between discrete and continuous random variables.\n",
    "\n",
    "\"\"A random variable is a numerical outcome of a random event, used to model uncertainty.\n",
    "\n",
    "Types:\n",
    "1) Discrete Random Variable: Takes distinct, countable values (e.g., number of students in a class).\n",
    "2) Continuous Random Variable: Takes any value within a range (e.g., height, time, or temperature).\n",
    "\n",
    "Key Difference: Discrete variables have countable values, while continuous variables can take any value within a range."
   ]
  },
  {
   "cell_type": "code",
   "execution_count": 5,
   "id": "db7604ce-de41-4e63-9016-89d398bfa663",
   "metadata": {},
   "outputs": [
    {
     "name": "stdout",
     "output_type": "stream",
     "text": [
      "Covariance between Hours Studied and Exam Score: 42.5\n",
      "Correlation between Hours Studied and Exam Score: 0.9814954576223637\n"
     ]
    }
   ],
   "source": [
    "# 12. Provide an example dataset, calculate both covariance and correlation, and interpret the results\n",
    "\n",
    "import numpy as np\n",
    "import pandas as pd\n",
    "\n",
    "# Dataset\n",
    "data = {\n",
    "    \"Hours_Studied\": [2, 4, 6, 8, 10],\n",
    "    \"Exam_Score\": [50, 55, 65, 70, 85]\n",
    "}\n",
    "\n",
    "df = pd.DataFrame(data)\n",
    "\n",
    "\n",
    "cov_matrix = np.cov(df['Hours_Studied'], df['Exam_Score'])\n",
    "covariance = cov_matrix[0, 1]  \n",
    "\n",
    "\n",
    "correlation = np.corrcoef(df['Hours_Studied'], df['Exam_Score'])[0, 1]\n",
    "\n",
    "print(\"Covariance between Hours Studied and Exam Score:\", covariance)\n",
    "print(\"Correlation between Hours Studied and Exam Score:\", correlation)\n",
    "\n",
    "\n"
   ]
  },
  {
   "cell_type": "code",
   "execution_count": null,
   "id": "8a2adc1c-5e5c-4284-985d-e6b2aa84e983",
   "metadata": {},
   "outputs": [],
   "source": []
  }
 ],
 "metadata": {
  "kernelspec": {
   "display_name": "Python 3 (ipykernel)",
   "language": "python",
   "name": "python3"
  },
  "language_info": {
   "codemirror_mode": {
    "name": "ipython",
    "version": 3
   },
   "file_extension": ".py",
   "mimetype": "text/x-python",
   "name": "python",
   "nbconvert_exporter": "python",
   "pygments_lexer": "ipython3",
   "version": "3.12.4"
  }
 },
 "nbformat": 4,
 "nbformat_minor": 5
}
